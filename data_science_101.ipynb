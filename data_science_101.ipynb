{
  "nbformat": 4,
  "nbformat_minor": 0,
  "metadata": {
    "colab": {
      "provenance": [],
      "authorship_tag": "ABX9TyN5VDHPo6e4eW907ARlq6Vo",
      "include_colab_link": true
    },
    "kernelspec": {
      "name": "python3",
      "display_name": "Python 3"
    },
    "language_info": {
      "name": "python"
    }
  },
  "cells": [
    {
      "cell_type": "markdown",
      "metadata": {
        "id": "view-in-github",
        "colab_type": "text"
      },
      "source": [
        "<a href=\"https://colab.research.google.com/github/Smbmrizvi/mlops-starter-env/blob/main/data_science_101.ipynb\" target=\"_parent\"><img src=\"https://colab.research.google.com/assets/colab-badge.svg\" alt=\"Open In Colab\"/></a>"
      ]
    },
    {
      "cell_type": "markdown",
      "source": [
        "## Ingest"
      ],
      "metadata": {
        "id": "Sc3npSn_nwC5"
      }
    },
    {
      "cell_type": "code",
      "source": [],
      "metadata": {
        "id": "et8rIB64oFCh"
      },
      "execution_count": null,
      "outputs": []
    },
    {
      "cell_type": "markdown",
      "source": [
        "## EDA"
      ],
      "metadata": {
        "id": "m9l3FK9PoJIW"
      }
    },
    {
      "cell_type": "code",
      "source": [],
      "metadata": {
        "id": "qQYEKY7VoTKN"
      },
      "execution_count": null,
      "outputs": []
    },
    {
      "cell_type": "markdown",
      "source": [
        "## Modeling"
      ],
      "metadata": {
        "id": "L4zcDfVooTxA"
      }
    },
    {
      "cell_type": "code",
      "source": [],
      "metadata": {
        "id": "ra5aNcvTv85z"
      },
      "execution_count": null,
      "outputs": []
    },
    {
      "cell_type": "markdown",
      "source": [
        "## Conclusion"
      ],
      "metadata": {
        "id": "AOga1ltqv9f3"
      }
    }
  ]
}